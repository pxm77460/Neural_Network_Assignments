{
  "nbformat": 4,
  "nbformat_minor": 0,
  "metadata": {
    "colab": {
      "provenance": [],
      "gpuType": "T4"
    },
    "kernelspec": {
      "name": "python3",
      "display_name": "Python 3"
    },
    "language_info": {
      "name": "python"
    },
    "gpuClass": "standard"
  },
  "cells": [
    {
      "cell_type": "code",
      "execution_count": null,
      "metadata": {
        "id": "qYbkD6c5WJON"
      },
      "outputs": [],
      "source": [
        "import pandas as pd #Basic packages for creating dataframes and loading dataset\n",
        "import numpy as np\n",
        "\n",
        "import matplotlib.pyplot as plt #Package for visualization\n",
        "\n",
        "import re #importing package for Regular expression operations\n",
        "\n",
        "from sklearn.model_selection import train_test_split #Package for splitting the data\n",
        "\n",
        "from sklearn.preprocessing import LabelEncoder #Package for conversion of categorical to Numerical\n",
        "\n",
        "from keras.preprocessing.text import Tokenizer #Tokenization\n",
        "from tensorflow.keras.preprocessing.sequence import pad_sequences #Add zeros or crop based on the length\n",
        "from keras.models import Sequential #Sequential Neural Network\n",
        "from keras.layers import Dense, Embedding, LSTM, SpatialDropout1D #For layers in Neural Network\n",
        "from keras.utils.np_utils import to_categorical"
      ]
    },
    {
      "cell_type": "code",
      "source": [
        "import pandas as pd\n",
        "\n",
        "# Load the dataset as a Pandas DataFrame\n",
        "from google.colab import drive \n",
        "drive.mount('/content/gdrive') \n",
        "path_to_csv = '/content/gdrive/My Drive/Sentiment.csv'\n",
        "data = pd.read_csv(path_to_csv)\n",
        "\n",
        "# Select only the necessary columns 'text' and 'sentiment'\n",
        "mask = data.columns.isin(['text', 'sentiment'])\n",
        "data = data.loc[:, mask]\n",
        "\n"
      ],
      "metadata": {
        "id": "cv9qZuvTgB4I"
      },
      "execution_count": null,
      "outputs": []
    },
    {
      "cell_type": "code",
      "source": [
        "# Keeping only the necessary columns\n",
        "data['text'] = data['text'].apply(lambda x: x.lower())\n",
        "data['text'] = data['text'].apply((lambda x: re.sub('[^a-zA-z0-9\\s]', '', x)))"
      ],
      "metadata": {
        "id": "NUYP121giJwz"
      },
      "execution_count": null,
      "outputs": []
    },
    {
      "cell_type": "code",
      "source": [
        "for idx, row in data.iterrows():\n",
        "    row[0] = row[0].replace('rt', ' ') #Removing Retweets"
      ],
      "metadata": {
        "id": "KqUN5B6-iyJ6"
      },
      "execution_count": null,
      "outputs": []
    },
    {
      "cell_type": "code",
      "source": [
        "max_fatures = 2000\n",
        "tokenizer = Tokenizer(num_words=max_fatures, split=' ') #Maximum words is 2000 to tokenize sentence\n",
        "tokenizer.fit_on_texts(data['text'].values) \n",
        "X = tokenizer.texts_to_sequences(data['text'].values) #taking values to feature matrix"
      ],
      "metadata": {
        "id": "jn27s_k6i2gh"
      },
      "execution_count": null,
      "outputs": []
    },
    {
      "cell_type": "code",
      "source": [
        "X = pad_sequences(X) #Padding the feature matrix\n",
        "\n",
        "embed_dim = 128 #Dimension of the Embedded layer\n",
        "lstm_out = 196 #Long short-term memory (LSTM) layer neurons"
      ],
      "metadata": {
        "id": "THDaKJfUi6BE"
      },
      "execution_count": null,
      "outputs": []
    },
    {
      "cell_type": "code",
      "source": [
        "def createmodel():\n",
        "    model = Sequential() #Sequential Neural Network\n",
        "    model.add(Embedding(max_fatures, embed_dim,input_length = X.shape[1])) #input dimension 2000 Neurons, output dimension 128 Neurons\n",
        "    model.add(LSTM(lstm_out, dropout=0.2, recurrent_dropout=0.2)) #Drop out 20%, 196 output Neurons, recurrent dropout 20%\n",
        "    model.add(Dense(3,activation='softmax')) #3 output neurons[positive, Neutral, Negative], softmax as activation\n",
        "    model.compile(loss = 'categorical_crossentropy', optimizer='adam',metrics = ['accuracy']) #Compiling the model\n",
        "    return model"
      ],
      "metadata": {
        "id": "5xfHJdkCi7bL"
      },
      "execution_count": null,
      "outputs": []
    },
    {
      "cell_type": "code",
      "source": [
        "labelencoder = LabelEncoder() #Applying label Encoding on the label matrix\n",
        "integer_encoded = labelencoder.fit_transform(data['sentiment']) #fitting the model\n",
        "y = to_categorical(integer_encoded)\n",
        "X_train, X_test, Y_train, Y_test = train_test_split(X,y, test_size = 0.33, random_state = 42) #67% training data, 33% test data split"
      ],
      "metadata": {
        "id": "uyL8RT0sjEil"
      },
      "execution_count": null,
      "outputs": []
    },
    {
      "cell_type": "code",
      "source": [
        "batch_size = 32 #Batch size 32\n",
        "model = createmodel() #Function call to Sequential Neural Network\n",
        "model.fit(X_train, Y_train, epochs = 1, batch_size=batch_size, verbose = 2) #verbose the higher, the more messages\n",
        "score,acc = model.evaluate(X_test,Y_test,verbose=2,batch_size=batch_size) #evaluating the model\n",
        "print(score)\n",
        "print(acc)"
      ],
      "metadata": {
        "colab": {
          "base_uri": "https://localhost:8080/"
        },
        "id": "LKRTesV3jH8f",
        "outputId": "7a37ce8b-17dc-4904-d6c2-550a3ef2fc99"
      },
      "execution_count": null,
      "outputs": [
        {
          "output_type": "stream",
          "name": "stdout",
          "text": [
            "291/291 - 53s - loss: 0.8224 - accuracy: 0.6448 - 53s/epoch - 183ms/step\n",
            "144/144 - 3s - loss: 0.7671 - accuracy: 0.6560 - 3s/epoch - 23ms/step\n",
            "0.7671074271202087\n",
            "0.6559633016586304\n"
          ]
        }
      ]
    },
    {
      "cell_type": "code",
      "source": [
        "print(model.metrics_names) #metrics of the model"
      ],
      "metadata": {
        "colab": {
          "base_uri": "https://localhost:8080/"
        },
        "id": "Fp8SKQQHjo6u",
        "outputId": "86614186-f1af-43c2-eb98-0d28c3d2ebf3"
      },
      "execution_count": null,
      "outputs": [
        {
          "output_type": "stream",
          "name": "stdout",
          "text": [
            "['loss', 'accuracy']\n"
          ]
        }
      ]
    },
    {
      "cell_type": "markdown",
      "source": [
        "#1. Save the model and use the saved model to predict on new text data (ex, “A lot of good things are happening. We are respected again throughout the world, and that's a great thing.@realDonaldTrump”)"
      ],
      "metadata": {
        "id": "jpxYN-Fvjsk7"
      }
    },
    {
      "cell_type": "code",
      "source": [
        "model.save('sentimentAnalysis.h5') #Saving the model"
      ],
      "metadata": {
        "id": "xuDGCrpzjwTi"
      },
      "execution_count": null,
      "outputs": []
    },
    {
      "cell_type": "code",
      "source": [
        "from keras.models import load_model #Importing the package for importing the saved model\n",
        "model= load_model('sentimentAnalysis.h5') #loading the saved model"
      ],
      "metadata": {
        "id": "1SYV5LKXj1qJ"
      },
      "execution_count": null,
      "outputs": []
    },
    {
      "cell_type": "code",
      "source": [
        "print(integer_encoded)\n",
        "print(data['sentiment'])"
      ],
      "metadata": {
        "colab": {
          "base_uri": "https://localhost:8080/"
        },
        "id": "_7qb5jdUj5Mw",
        "outputId": "678eeff4-2b41-4bdb-e769-cfd6a11d9513"
      },
      "execution_count": null,
      "outputs": [
        {
          "output_type": "stream",
          "name": "stdout",
          "text": [
            "[1 2 1 ... 2 0 2]\n",
            "0         Neutral\n",
            "1        Positive\n",
            "2         Neutral\n",
            "3        Positive\n",
            "4        Positive\n",
            "           ...   \n",
            "13866    Negative\n",
            "13867    Positive\n",
            "13868    Positive\n",
            "13869    Negative\n",
            "13870    Positive\n",
            "Name: sentiment, Length: 13871, dtype: object\n"
          ]
        }
      ]
    },
    {
      "cell_type": "code",
      "source": [
        "# Predicting on the text data\n",
        "sentence = ['A lot of good things are happening. We are respected again throughout the world, and that is a great thing.@realDonaldTrump']\n",
        "sentence = tokenizer.texts_to_sequences(sentence) # Tokenizing the sentence\n",
        "sentence = pad_sequences(sentence, maxlen=28, dtype='int32', value=0) # Padding the sentence\n",
        "sentiment_probs = model.predict(sentence, batch_size=1, verbose=2)[0] # Predicting the sentence text\n",
        "sentiment = np.argmax(sentiment_probs)\n",
        "\n",
        "print(sentiment_probs)\n",
        "if sentiment == 0:\n",
        "    print(\"Neutral\")\n",
        "elif sentiment < 0:\n",
        "    print(\"Negative\")\n",
        "elif sentiment > 0:\n",
        "    print(\"Positive\")\n",
        "else:\n",
        "    print(\"Cannot be determined\")\n"
      ],
      "metadata": {
        "colab": {
          "base_uri": "https://localhost:8080/"
        },
        "id": "Mn1aBmFDj-ga",
        "outputId": "c8d9a43f-1a25-4a39-a416-e1af15ef07e7"
      },
      "execution_count": null,
      "outputs": [
        {
          "output_type": "stream",
          "name": "stdout",
          "text": [
            "1/1 - 0s - 316ms/epoch - 316ms/step\n",
            "[0.5062279  0.14353454 0.3502375 ]\n",
            "Neutral\n"
          ]
        }
      ]
    },
    {
      "cell_type": "markdown",
      "source": [
        "#2. Apply GridSearchCV on the source code provided in the class"
      ],
      "metadata": {
        "id": "VeT981q5kDW9"
      }
    },
    {
      "cell_type": "code",
      "source": [
        "from keras.wrappers.scikit_learn import KerasClassifier #importing Keras classifier\n",
        "from sklearn.model_selection import GridSearchCV #importing Grid search CV\n",
        "\n",
        "model = KerasClassifier(build_fn=createmodel,verbose=2) #initiating model to test performance by applying multiple hyper parameters\n",
        "batch_size= [10, 20, 40] #hyper parameter batch_size\n",
        "epochs = [1, 2] #hyper parameter no. of epochs\n",
        "param_grid= {'batch_size':batch_size, 'epochs':epochs} #creating dictionary for batch size, no. of epochs\n",
        "grid  = GridSearchCV(estimator=model, param_grid=param_grid) #Applying dictionary with hyper parameters\n",
        "grid_result= grid.fit(X_train,Y_train) #Fitting the model\n",
        "# summarize results\n",
        "print(\"Best: %f using %s\" % (grid_result.best_score_, grid_result.best_params_)) #best score, best hyper parameters"
      ],
      "metadata": {
        "colab": {
          "base_uri": "https://localhost:8080/"
        },
        "id": "RiDZ7_SW3tAp",
        "outputId": "4f09d103-4537-4605-d4db-f699ad4c129d"
      },
      "execution_count": null,
      "outputs": [
        {
          "metadata": {
            "tags": null
          },
          "name": "stderr",
          "output_type": "stream",
          "text": [
            "<ipython-input-19-6c99b49150f4>:4: DeprecationWarning: KerasClassifier is deprecated, use Sci-Keras (https://github.com/adriangb/scikeras) instead. See https://www.adriangb.com/scikeras/stable/migration.html for help migrating.\n",
            "  model = KerasClassifier(build_fn=createmodel,verbose=2) #initiating model to test performance by applying multiple hyper parameters\n"
          ]
        },
        {
          "output_type": "stream",
          "name": "stdout",
          "text": [
            "744/744 - 105s - loss: 0.8242 - accuracy: 0.6426 - 105s/epoch - 141ms/step\n",
            "186/186 - 3s - loss: 0.7462 - accuracy: 0.6697 - 3s/epoch - 15ms/step\n",
            "744/744 - 107s - loss: 0.8273 - accuracy: 0.6462 - 107s/epoch - 143ms/step\n",
            "186/186 - 3s - loss: 0.7747 - accuracy: 0.6735 - 3s/epoch - 15ms/step\n",
            "744/744 - 106s - loss: 0.8323 - accuracy: 0.6481 - 106s/epoch - 143ms/step\n",
            "186/186 - 4s - loss: 0.7588 - accuracy: 0.6848 - 4s/epoch - 20ms/step\n",
            "744/744 - 108s - loss: 0.8229 - accuracy: 0.6492 - 108s/epoch - 145ms/step\n",
            "186/186 - 4s - loss: 0.7546 - accuracy: 0.6765 - 4s/epoch - 21ms/step\n",
            "744/744 - 109s - loss: 0.8197 - accuracy: 0.6469 - 109s/epoch - 146ms/step\n",
            "186/186 - 4s - loss: 0.7758 - accuracy: 0.6642 - 4s/epoch - 21ms/step\n",
            "Epoch 1/2\n",
            "744/744 - 106s - loss: 0.8272 - accuracy: 0.6427 - 106s/epoch - 142ms/step\n",
            "Epoch 2/2\n",
            "744/744 - 103s - loss: 0.6807 - accuracy: 0.7119 - 103s/epoch - 138ms/step\n",
            "186/186 - 3s - loss: 0.7417 - accuracy: 0.6697 - 3s/epoch - 15ms/step\n",
            "Epoch 1/2\n",
            "744/744 - 100s - loss: 0.8207 - accuracy: 0.6488 - 100s/epoch - 134ms/step\n",
            "Epoch 2/2\n",
            "744/744 - 96s - loss: 0.6802 - accuracy: 0.7136 - 96s/epoch - 129ms/step\n",
            "186/186 - 3s - loss: 0.7251 - accuracy: 0.6880 - 3s/epoch - 14ms/step\n",
            "Epoch 1/2\n",
            "744/744 - 103s - loss: 0.8204 - accuracy: 0.6464 - 103s/epoch - 139ms/step\n",
            "Epoch 2/2\n",
            "744/744 - 98s - loss: 0.6779 - accuracy: 0.7132 - 98s/epoch - 131ms/step\n",
            "186/186 - 3s - loss: 0.8540 - accuracy: 0.6902 - 3s/epoch - 15ms/step\n",
            "Epoch 1/2\n",
            "744/744 - 100s - loss: 0.8195 - accuracy: 0.6432 - 100s/epoch - 135ms/step\n",
            "Epoch 2/2\n",
            "744/744 - 103s - loss: 0.6739 - accuracy: 0.7155 - 103s/epoch - 139ms/step\n",
            "186/186 - 3s - loss: 0.7627 - accuracy: 0.6652 - 3s/epoch - 14ms/step\n",
            "Epoch 1/2\n",
            "744/744 - 98s - loss: 0.8208 - accuracy: 0.6475 - 98s/epoch - 132ms/step\n",
            "Epoch 2/2\n",
            "744/744 - 95s - loss: 0.6666 - accuracy: 0.7161 - 95s/epoch - 128ms/step\n",
            "186/186 - 3s - loss: 0.7713 - accuracy: 0.6749 - 3s/epoch - 14ms/step\n",
            "372/372 - 59s - loss: 0.8299 - accuracy: 0.6430 - 59s/epoch - 159ms/step\n",
            "93/93 - 2s - loss: 0.7523 - accuracy: 0.6783 - 2s/epoch - 22ms/step\n",
            "372/372 - 58s - loss: 0.8280 - accuracy: 0.6442 - 58s/epoch - 156ms/step\n",
            "93/93 - 2s - loss: 0.7562 - accuracy: 0.6778 - 2s/epoch - 21ms/step\n",
            "372/372 - 57s - loss: 0.8266 - accuracy: 0.6372 - 57s/epoch - 153ms/step\n",
            "93/93 - 2s - loss: 0.7675 - accuracy: 0.6697 - 2s/epoch - 21ms/step\n",
            "372/372 - 58s - loss: 0.8313 - accuracy: 0.6381 - 58s/epoch - 155ms/step\n",
            "93/93 - 2s - loss: 0.7380 - accuracy: 0.6792 - 2s/epoch - 21ms/step\n",
            "372/372 - 57s - loss: 0.8222 - accuracy: 0.6456 - 57s/epoch - 153ms/step\n",
            "93/93 - 2s - loss: 0.7638 - accuracy: 0.6749 - 2s/epoch - 21ms/step\n",
            "Epoch 1/2\n",
            "372/372 - 60s - loss: 0.8335 - accuracy: 0.6431 - 60s/epoch - 160ms/step\n",
            "Epoch 2/2\n",
            "372/372 - 53s - loss: 0.6856 - accuracy: 0.7085 - 53s/epoch - 143ms/step\n",
            "93/93 - 2s - loss: 0.7196 - accuracy: 0.6907 - 2s/epoch - 20ms/step\n",
            "Epoch 1/2\n",
            "372/372 - 57s - loss: 0.8290 - accuracy: 0.6464 - 57s/epoch - 154ms/step\n",
            "Epoch 2/2\n",
            "372/372 - 55s - loss: 0.6809 - accuracy: 0.7076 - 55s/epoch - 147ms/step\n",
            "93/93 - 2s - loss: 0.7526 - accuracy: 0.6789 - 2s/epoch - 22ms/step\n",
            "Epoch 1/2\n",
            "372/372 - 58s - loss: 0.8297 - accuracy: 0.6407 - 58s/epoch - 155ms/step\n",
            "Epoch 2/2\n",
            "372/372 - 55s - loss: 0.6739 - accuracy: 0.7139 - 55s/epoch - 147ms/step\n",
            "93/93 - 3s - loss: 0.7449 - accuracy: 0.6880 - 3s/epoch - 29ms/step\n",
            "Epoch 1/2\n",
            "372/372 - 56s - loss: 0.8395 - accuracy: 0.6408 - 56s/epoch - 152ms/step\n",
            "Epoch 2/2\n",
            "372/372 - 54s - loss: 0.6844 - accuracy: 0.7060 - 54s/epoch - 146ms/step\n",
            "93/93 - 2s - loss: 0.7582 - accuracy: 0.6701 - 2s/epoch - 20ms/step\n",
            "Epoch 1/2\n",
            "372/372 - 58s - loss: 0.8295 - accuracy: 0.6425 - 58s/epoch - 156ms/step\n",
            "Epoch 2/2\n",
            "372/372 - 55s - loss: 0.6674 - accuracy: 0.7153 - 55s/epoch - 147ms/step\n",
            "93/93 - 2s - loss: 0.7935 - accuracy: 0.6738 - 2s/epoch - 21ms/step\n",
            "186/186 - 37s - loss: 0.8467 - accuracy: 0.6360 - 37s/epoch - 197ms/step\n",
            "47/47 - 1s - loss: 0.7497 - accuracy: 0.6600 - 1s/epoch - 29ms/step\n",
            "186/186 - 36s - loss: 0.8416 - accuracy: 0.6383 - 36s/epoch - 194ms/step\n",
            "47/47 - 1s - loss: 0.7724 - accuracy: 0.6746 - 1s/epoch - 30ms/step\n",
            "186/186 - 38s - loss: 0.8404 - accuracy: 0.6365 - 38s/epoch - 206ms/step\n",
            "47/47 - 2s - loss: 0.7972 - accuracy: 0.6799 - 2s/epoch - 32ms/step\n",
            "186/186 - 37s - loss: 0.8464 - accuracy: 0.6350 - 37s/epoch - 199ms/step\n",
            "47/47 - 1s - loss: 0.7542 - accuracy: 0.6781 - 1s/epoch - 30ms/step\n",
            "186/186 - 36s - loss: 0.8384 - accuracy: 0.6402 - 36s/epoch - 196ms/step\n",
            "47/47 - 1s - loss: 0.7948 - accuracy: 0.6518 - 1s/epoch - 29ms/step\n",
            "Epoch 1/2\n",
            "186/186 - 37s - loss: 0.8451 - accuracy: 0.6365 - 37s/epoch - 198ms/step\n",
            "Epoch 2/2\n",
            "186/186 - 34s - loss: 0.6842 - accuracy: 0.7080 - 34s/epoch - 181ms/step\n",
            "47/47 - 2s - loss: 0.7232 - accuracy: 0.6767 - 2s/epoch - 42ms/step\n",
            "Epoch 1/2\n",
            "186/186 - 36s - loss: 0.8403 - accuracy: 0.6360 - 36s/epoch - 196ms/step\n",
            "Epoch 2/2\n",
            "186/186 - 34s - loss: 0.6959 - accuracy: 0.7019 - 34s/epoch - 181ms/step\n",
            "47/47 - 1s - loss: 0.7368 - accuracy: 0.6826 - 1s/epoch - 30ms/step\n",
            "Epoch 1/2\n",
            "186/186 - 37s - loss: 0.8460 - accuracy: 0.6355 - 37s/epoch - 196ms/step\n",
            "Epoch 2/2\n",
            "186/186 - 34s - loss: 0.6887 - accuracy: 0.7105 - 34s/epoch - 180ms/step\n",
            "47/47 - 1s - loss: 0.7411 - accuracy: 0.6880 - 1s/epoch - 29ms/step\n",
            "Epoch 1/2\n",
            "186/186 - 36s - loss: 0.8498 - accuracy: 0.6296 - 36s/epoch - 193ms/step\n",
            "Epoch 2/2\n",
            "186/186 - 33s - loss: 0.6981 - accuracy: 0.7030 - 33s/epoch - 180ms/step\n",
            "47/47 - 1s - loss: 0.7437 - accuracy: 0.6798 - 1s/epoch - 29ms/step\n",
            "Epoch 1/2\n",
            "186/186 - 38s - loss: 0.8444 - accuracy: 0.6331 - 38s/epoch - 203ms/step\n",
            "Epoch 2/2\n",
            "186/186 - 34s - loss: 0.6917 - accuracy: 0.7064 - 34s/epoch - 181ms/step\n",
            "47/47 - 1s - loss: 0.7937 - accuracy: 0.6755 - 1s/epoch - 29ms/step\n",
            "Epoch 1/2\n",
            "233/233 - 46s - loss: 0.8291 - accuracy: 0.6423 - 46s/epoch - 196ms/step\n",
            "Epoch 2/2\n",
            "233/233 - 42s - loss: 0.6853 - accuracy: 0.7084 - 42s/epoch - 180ms/step\n",
            "Best: 0.680512 using {'batch_size': 40, 'epochs': 2}\n"
          ]
        }
      ]
    }
  ]
}